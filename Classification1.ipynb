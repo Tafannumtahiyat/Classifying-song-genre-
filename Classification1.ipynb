{
 "cells": [
  {
   "cell_type": "markdown",
   "metadata": {},
   "source": [
    "# Preparing dataset"
   ]
  },
  {
   "cell_type": "code",
   "execution_count": 2,
   "metadata": {},
   "outputs": [
    {
     "name": "stdout",
     "output_type": "stream",
     "text": [
      "<class 'pandas.core.frame.DataFrame'>\n",
      "Int64Index: 4802 entries, 0 to 4801\n",
      "Data columns (total 10 columns):\n",
      "track_id            4802 non-null int64\n",
      "acousticness        4802 non-null float64\n",
      "danceability        4802 non-null float64\n",
      "energy              4802 non-null float64\n",
      "instrumentalness    4802 non-null float64\n",
      "liveness            4802 non-null float64\n",
      "speechiness         4802 non-null float64\n",
      "tempo               4802 non-null float64\n",
      "valence             4802 non-null float64\n",
      "genre_top           4802 non-null object\n",
      "dtypes: float64(8), int64(1), object(1)\n",
      "memory usage: 412.7+ KB\n"
     ]
    }
   ],
   "source": [
    "import pandas as pd\n",
    "\n",
    "# Read in track metadata with genre labels\n",
    "tracks = pd.read_csv('datasets/fma-rock-vs-hiphop.csv')\n",
    "\n",
    "# Read in track metrics with the features\n",
    "echonest_metrics = pd.read_json('datasets/echonest-metrics.json',precise_float='true')\n",
    "\n",
    "# Merge the relevant columns of tracks and echonest_metrics\n",
    "echo_tracks = echonest_metrics.merge(tracks[['track_id', 'genre_top']], on='track_id')\n",
    "\n",
    "# Inspect the resultant dataframe\n",
    "echo_tracks.info(verbose=None,buf=None,max_cols=None,memory_usage=None,null_counts=None)"
   ]
  },
  {
   "cell_type": "markdown",
   "metadata": {},
   "source": [
    "# Pairwise relationships between continuous variables\n"
   ]
  },
  {
   "cell_type": "code",
   "execution_count": 3,
   "metadata": {},
   "outputs": [
    {
     "data": {
      "text/html": [
       "<style  type=\"text/css\" >\n",
       "    #T_77fb5130_8575_11ea_88ed_74e543352dbcrow0_col0 {\n",
       "            background-color:  #023858;\n",
       "        }    #T_77fb5130_8575_11ea_88ed_74e543352dbcrow0_col1 {\n",
       "            background-color:  #fff7fb;\n",
       "        }    #T_77fb5130_8575_11ea_88ed_74e543352dbcrow0_col2 {\n",
       "            background-color:  #d2d2e7;\n",
       "        }    #T_77fb5130_8575_11ea_88ed_74e543352dbcrow0_col3 {\n",
       "            background-color:  #b5c4df;\n",
       "        }    #T_77fb5130_8575_11ea_88ed_74e543352dbcrow0_col4 {\n",
       "            background-color:  #f5eef6;\n",
       "        }    #T_77fb5130_8575_11ea_88ed_74e543352dbcrow0_col5 {\n",
       "            background-color:  #e9e5f1;\n",
       "        }    #T_77fb5130_8575_11ea_88ed_74e543352dbcrow0_col6 {\n",
       "            background-color:  #d1d2e6;\n",
       "        }    #T_77fb5130_8575_11ea_88ed_74e543352dbcrow0_col7 {\n",
       "            background-color:  #e1dfed;\n",
       "        }    #T_77fb5130_8575_11ea_88ed_74e543352dbcrow0_col8 {\n",
       "            background-color:  #dedcec;\n",
       "        }    #T_77fb5130_8575_11ea_88ed_74e543352dbcrow1_col0 {\n",
       "            background-color:  #fff7fb;\n",
       "        }    #T_77fb5130_8575_11ea_88ed_74e543352dbcrow1_col1 {\n",
       "            background-color:  #023858;\n",
       "        }    #T_77fb5130_8575_11ea_88ed_74e543352dbcrow1_col2 {\n",
       "            background-color:  #e0dded;\n",
       "        }    #T_77fb5130_8575_11ea_88ed_74e543352dbcrow1_col3 {\n",
       "            background-color:  #fff7fb;\n",
       "        }    #T_77fb5130_8575_11ea_88ed_74e543352dbcrow1_col4 {\n",
       "            background-color:  #97b7d7;\n",
       "        }    #T_77fb5130_8575_11ea_88ed_74e543352dbcrow1_col5 {\n",
       "            background-color:  #f3edf5;\n",
       "        }    #T_77fb5130_8575_11ea_88ed_74e543352dbcrow1_col6 {\n",
       "            background-color:  #b8c6e0;\n",
       "        }    #T_77fb5130_8575_11ea_88ed_74e543352dbcrow1_col7 {\n",
       "            background-color:  #e1dfed;\n",
       "        }    #T_77fb5130_8575_11ea_88ed_74e543352dbcrow1_col8 {\n",
       "            background-color:  #e2dfee;\n",
       "        }    #T_77fb5130_8575_11ea_88ed_74e543352dbcrow2_col0 {\n",
       "            background-color:  #bdc8e1;\n",
       "        }    #T_77fb5130_8575_11ea_88ed_74e543352dbcrow2_col1 {\n",
       "            background-color:  #d0d1e6;\n",
       "        }    #T_77fb5130_8575_11ea_88ed_74e543352dbcrow2_col2 {\n",
       "            background-color:  #023858;\n",
       "        }    #T_77fb5130_8575_11ea_88ed_74e543352dbcrow2_col3 {\n",
       "            background-color:  #fbf3f9;\n",
       "        }    #T_77fb5130_8575_11ea_88ed_74e543352dbcrow2_col4 {\n",
       "            background-color:  #f3edf5;\n",
       "        }    #T_77fb5130_8575_11ea_88ed_74e543352dbcrow2_col5 {\n",
       "            background-color:  #fff7fb;\n",
       "        }    #T_77fb5130_8575_11ea_88ed_74e543352dbcrow2_col6 {\n",
       "            background-color:  #80aed2;\n",
       "        }    #T_77fb5130_8575_11ea_88ed_74e543352dbcrow2_col7 {\n",
       "            background-color:  #fff7fb;\n",
       "        }    #T_77fb5130_8575_11ea_88ed_74e543352dbcrow2_col8 {\n",
       "            background-color:  #529bc7;\n",
       "        }    #T_77fb5130_8575_11ea_88ed_74e543352dbcrow3_col0 {\n",
       "            background-color:  #a7bddb;\n",
       "        }    #T_77fb5130_8575_11ea_88ed_74e543352dbcrow3_col1 {\n",
       "            background-color:  #f5eff6;\n",
       "        }    #T_77fb5130_8575_11ea_88ed_74e543352dbcrow3_col2 {\n",
       "            background-color:  #fef6fa;\n",
       "        }    #T_77fb5130_8575_11ea_88ed_74e543352dbcrow3_col3 {\n",
       "            background-color:  #023858;\n",
       "        }    #T_77fb5130_8575_11ea_88ed_74e543352dbcrow3_col4 {\n",
       "            background-color:  #c4cbe3;\n",
       "        }    #T_77fb5130_8575_11ea_88ed_74e543352dbcrow3_col5 {\n",
       "            background-color:  #dcdaeb;\n",
       "        }    #T_77fb5130_8575_11ea_88ed_74e543352dbcrow3_col6 {\n",
       "            background-color:  #dedcec;\n",
       "        }    #T_77fb5130_8575_11ea_88ed_74e543352dbcrow3_col7 {\n",
       "            background-color:  #adc1dd;\n",
       "        }    #T_77fb5130_8575_11ea_88ed_74e543352dbcrow3_col8 {\n",
       "            background-color:  #d9d8ea;\n",
       "        }    #T_77fb5130_8575_11ea_88ed_74e543352dbcrow4_col0 {\n",
       "            background-color:  #f4eef6;\n",
       "        }    #T_77fb5130_8575_11ea_88ed_74e543352dbcrow4_col1 {\n",
       "            background-color:  #97b7d7;\n",
       "        }    #T_77fb5130_8575_11ea_88ed_74e543352dbcrow4_col2 {\n",
       "            background-color:  #fff7fb;\n",
       "        }    #T_77fb5130_8575_11ea_88ed_74e543352dbcrow4_col3 {\n",
       "            background-color:  #d2d3e7;\n",
       "        }    #T_77fb5130_8575_11ea_88ed_74e543352dbcrow4_col4 {\n",
       "            background-color:  #023858;\n",
       "        }    #T_77fb5130_8575_11ea_88ed_74e543352dbcrow4_col5 {\n",
       "            background-color:  #fdf5fa;\n",
       "        }    #T_77fb5130_8575_11ea_88ed_74e543352dbcrow4_col6 {\n",
       "            background-color:  #fff7fb;\n",
       "        }    #T_77fb5130_8575_11ea_88ed_74e543352dbcrow4_col7 {\n",
       "            background-color:  #d9d8ea;\n",
       "        }    #T_77fb5130_8575_11ea_88ed_74e543352dbcrow4_col8 {\n",
       "            background-color:  #fff7fb;\n",
       "        }    #T_77fb5130_8575_11ea_88ed_74e543352dbcrow5_col0 {\n",
       "            background-color:  #bdc8e1;\n",
       "        }    #T_77fb5130_8575_11ea_88ed_74e543352dbcrow5_col1 {\n",
       "            background-color:  #ced0e6;\n",
       "        }    #T_77fb5130_8575_11ea_88ed_74e543352dbcrow5_col2 {\n",
       "            background-color:  #ede8f3;\n",
       "        }    #T_77fb5130_8575_11ea_88ed_74e543352dbcrow5_col3 {\n",
       "            background-color:  #bdc8e1;\n",
       "        }    #T_77fb5130_8575_11ea_88ed_74e543352dbcrow5_col4 {\n",
       "            background-color:  #dbdaeb;\n",
       "        }    #T_77fb5130_8575_11ea_88ed_74e543352dbcrow5_col5 {\n",
       "            background-color:  #023858;\n",
       "        }    #T_77fb5130_8575_11ea_88ed_74e543352dbcrow5_col6 {\n",
       "            background-color:  #c0c9e2;\n",
       "        }    #T_77fb5130_8575_11ea_88ed_74e543352dbcrow5_col7 {\n",
       "            background-color:  #dcdaeb;\n",
       "        }    #T_77fb5130_8575_11ea_88ed_74e543352dbcrow5_col8 {\n",
       "            background-color:  #e8e4f0;\n",
       "        }    #T_77fb5130_8575_11ea_88ed_74e543352dbcrow6_col0 {\n",
       "            background-color:  #d0d1e6;\n",
       "        }    #T_77fb5130_8575_11ea_88ed_74e543352dbcrow6_col1 {\n",
       "            background-color:  #b8c6e0;\n",
       "        }    #T_77fb5130_8575_11ea_88ed_74e543352dbcrow6_col2 {\n",
       "            background-color:  #93b5d6;\n",
       "        }    #T_77fb5130_8575_11ea_88ed_74e543352dbcrow6_col3 {\n",
       "            background-color:  #eae6f1;\n",
       "        }    #T_77fb5130_8575_11ea_88ed_74e543352dbcrow6_col4 {\n",
       "            background-color:  #fff7fb;\n",
       "        }    #T_77fb5130_8575_11ea_88ed_74e543352dbcrow6_col5 {\n",
       "            background-color:  #eae6f1;\n",
       "        }    #T_77fb5130_8575_11ea_88ed_74e543352dbcrow6_col6 {\n",
       "            background-color:  #023858;\n",
       "        }    #T_77fb5130_8575_11ea_88ed_74e543352dbcrow6_col7 {\n",
       "            background-color:  #dbdaeb;\n",
       "        }    #T_77fb5130_8575_11ea_88ed_74e543352dbcrow6_col8 {\n",
       "            background-color:  #bfc9e1;\n",
       "        }    #T_77fb5130_8575_11ea_88ed_74e543352dbcrow7_col0 {\n",
       "            background-color:  #d0d1e6;\n",
       "        }    #T_77fb5130_8575_11ea_88ed_74e543352dbcrow7_col1 {\n",
       "            background-color:  #d0d1e6;\n",
       "        }    #T_77fb5130_8575_11ea_88ed_74e543352dbcrow7_col2 {\n",
       "            background-color:  #fef6fa;\n",
       "        }    #T_77fb5130_8575_11ea_88ed_74e543352dbcrow7_col3 {\n",
       "            background-color:  #a7bddb;\n",
       "        }    #T_77fb5130_8575_11ea_88ed_74e543352dbcrow7_col4 {\n",
       "            background-color:  #c5cce3;\n",
       "        }    #T_77fb5130_8575_11ea_88ed_74e543352dbcrow7_col5 {\n",
       "            background-color:  #f0eaf4;\n",
       "        }    #T_77fb5130_8575_11ea_88ed_74e543352dbcrow7_col6 {\n",
       "            background-color:  #c8cde4;\n",
       "        }    #T_77fb5130_8575_11ea_88ed_74e543352dbcrow7_col7 {\n",
       "            background-color:  #023858;\n",
       "        }    #T_77fb5130_8575_11ea_88ed_74e543352dbcrow7_col8 {\n",
       "            background-color:  #d6d6e9;\n",
       "        }    #T_77fb5130_8575_11ea_88ed_74e543352dbcrow8_col0 {\n",
       "            background-color:  #c6cce3;\n",
       "        }    #T_77fb5130_8575_11ea_88ed_74e543352dbcrow8_col1 {\n",
       "            background-color:  #cdd0e5;\n",
       "        }    #T_77fb5130_8575_11ea_88ed_74e543352dbcrow8_col2 {\n",
       "            background-color:  #4c99c5;\n",
       "        }    #T_77fb5130_8575_11ea_88ed_74e543352dbcrow8_col3 {\n",
       "            background-color:  #d1d2e6;\n",
       "        }    #T_77fb5130_8575_11ea_88ed_74e543352dbcrow8_col4 {\n",
       "            background-color:  #efe9f3;\n",
       "        }    #T_77fb5130_8575_11ea_88ed_74e543352dbcrow8_col5 {\n",
       "            background-color:  #f7f0f7;\n",
       "        }    #T_77fb5130_8575_11ea_88ed_74e543352dbcrow8_col6 {\n",
       "            background-color:  #a5bddb;\n",
       "        }    #T_77fb5130_8575_11ea_88ed_74e543352dbcrow8_col7 {\n",
       "            background-color:  #d3d4e7;\n",
       "        }    #T_77fb5130_8575_11ea_88ed_74e543352dbcrow8_col8 {\n",
       "            background-color:  #023858;\n",
       "        }</style>  \n",
       "<table id=\"T_77fb5130_8575_11ea_88ed_74e543352dbc\" > \n",
       "<thead>    <tr> \n",
       "        <th class=\"blank level0\" ></th> \n",
       "        <th class=\"col_heading level0 col0\" >track_id</th> \n",
       "        <th class=\"col_heading level0 col1\" >acousticness</th> \n",
       "        <th class=\"col_heading level0 col2\" >danceability</th> \n",
       "        <th class=\"col_heading level0 col3\" >energy</th> \n",
       "        <th class=\"col_heading level0 col4\" >instrumentalness</th> \n",
       "        <th class=\"col_heading level0 col5\" >liveness</th> \n",
       "        <th class=\"col_heading level0 col6\" >speechiness</th> \n",
       "        <th class=\"col_heading level0 col7\" >tempo</th> \n",
       "        <th class=\"col_heading level0 col8\" >valence</th> \n",
       "    </tr></thead> \n",
       "<tbody>    <tr> \n",
       "        <th id=\"T_77fb5130_8575_11ea_88ed_74e543352dbclevel0_row0\" class=\"row_heading level0 row0\" >track_id</th> \n",
       "        <td id=\"T_77fb5130_8575_11ea_88ed_74e543352dbcrow0_col0\" class=\"data row0 col0\" >1</td> \n",
       "        <td id=\"T_77fb5130_8575_11ea_88ed_74e543352dbcrow0_col1\" class=\"data row0 col1\" >-0.372282</td> \n",
       "        <td id=\"T_77fb5130_8575_11ea_88ed_74e543352dbcrow0_col2\" class=\"data row0 col2\" >0.0494541</td> \n",
       "        <td id=\"T_77fb5130_8575_11ea_88ed_74e543352dbcrow0_col3\" class=\"data row0 col3\" >0.140703</td> \n",
       "        <td id=\"T_77fb5130_8575_11ea_88ed_74e543352dbcrow0_col4\" class=\"data row0 col4\" >-0.275623</td> \n",
       "        <td id=\"T_77fb5130_8575_11ea_88ed_74e543352dbcrow0_col5\" class=\"data row0 col5\" >0.0482307</td> \n",
       "        <td id=\"T_77fb5130_8575_11ea_88ed_74e543352dbcrow0_col6\" class=\"data row0 col6\" >-0.0269951</td> \n",
       "        <td id=\"T_77fb5130_8575_11ea_88ed_74e543352dbcrow0_col7\" class=\"data row0 col7\" >-0.0253918</td> \n",
       "        <td id=\"T_77fb5130_8575_11ea_88ed_74e543352dbcrow0_col8\" class=\"data row0 col8\" >0.0100698</td> \n",
       "    </tr>    <tr> \n",
       "        <th id=\"T_77fb5130_8575_11ea_88ed_74e543352dbclevel0_row1\" class=\"row_heading level0 row1\" >acousticness</th> \n",
       "        <td id=\"T_77fb5130_8575_11ea_88ed_74e543352dbcrow1_col0\" class=\"data row1 col0\" >-0.372282</td> \n",
       "        <td id=\"T_77fb5130_8575_11ea_88ed_74e543352dbcrow1_col1\" class=\"data row1 col1\" >1</td> \n",
       "        <td id=\"T_77fb5130_8575_11ea_88ed_74e543352dbcrow1_col2\" class=\"data row1 col2\" >-0.0289537</td> \n",
       "        <td id=\"T_77fb5130_8575_11ea_88ed_74e543352dbcrow1_col3\" class=\"data row1 col3\" >-0.281619</td> \n",
       "        <td id=\"T_77fb5130_8575_11ea_88ed_74e543352dbcrow1_col4\" class=\"data row1 col4\" >0.19478</td> \n",
       "        <td id=\"T_77fb5130_8575_11ea_88ed_74e543352dbcrow1_col5\" class=\"data row1 col5\" >-0.0199914</td> \n",
       "        <td id=\"T_77fb5130_8575_11ea_88ed_74e543352dbcrow1_col6\" class=\"data row1 col6\" >0.072204</td> \n",
       "        <td id=\"T_77fb5130_8575_11ea_88ed_74e543352dbcrow1_col7\" class=\"data row1 col7\" >-0.0263097</td> \n",
       "        <td id=\"T_77fb5130_8575_11ea_88ed_74e543352dbcrow1_col8\" class=\"data row1 col8\" >-0.0138406</td> \n",
       "    </tr>    <tr> \n",
       "        <th id=\"T_77fb5130_8575_11ea_88ed_74e543352dbclevel0_row2\" class=\"row_heading level0 row2\" >danceability</th> \n",
       "        <td id=\"T_77fb5130_8575_11ea_88ed_74e543352dbcrow2_col0\" class=\"data row2 col0\" >0.0494541</td> \n",
       "        <td id=\"T_77fb5130_8575_11ea_88ed_74e543352dbcrow2_col1\" class=\"data row2 col1\" >-0.0289537</td> \n",
       "        <td id=\"T_77fb5130_8575_11ea_88ed_74e543352dbcrow2_col2\" class=\"data row2 col2\" >1</td> \n",
       "        <td id=\"T_77fb5130_8575_11ea_88ed_74e543352dbcrow2_col3\" class=\"data row2 col3\" >-0.242032</td> \n",
       "        <td id=\"T_77fb5130_8575_11ea_88ed_74e543352dbcrow2_col4\" class=\"data row2 col4\" >-0.255217</td> \n",
       "        <td id=\"T_77fb5130_8575_11ea_88ed_74e543352dbcrow2_col5\" class=\"data row2 col5\" >-0.106584</td> \n",
       "        <td id=\"T_77fb5130_8575_11ea_88ed_74e543352dbcrow2_col6\" class=\"data row2 col6\" >0.276206</td> \n",
       "        <td id=\"T_77fb5130_8575_11ea_88ed_74e543352dbcrow2_col7\" class=\"data row2 col7\" >-0.242089</td> \n",
       "        <td id=\"T_77fb5130_8575_11ea_88ed_74e543352dbcrow2_col8\" class=\"data row2 col8\" >0.473165</td> \n",
       "    </tr>    <tr> \n",
       "        <th id=\"T_77fb5130_8575_11ea_88ed_74e543352dbclevel0_row3\" class=\"row_heading level0 row3\" >energy</th> \n",
       "        <td id=\"T_77fb5130_8575_11ea_88ed_74e543352dbcrow3_col0\" class=\"data row3 col0\" >0.140703</td> \n",
       "        <td id=\"T_77fb5130_8575_11ea_88ed_74e543352dbcrow3_col1\" class=\"data row3 col1\" >-0.281619</td> \n",
       "        <td id=\"T_77fb5130_8575_11ea_88ed_74e543352dbcrow3_col2\" class=\"data row3 col2\" >-0.242032</td> \n",
       "        <td id=\"T_77fb5130_8575_11ea_88ed_74e543352dbcrow3_col3\" class=\"data row3 col3\" >1</td> \n",
       "        <td id=\"T_77fb5130_8575_11ea_88ed_74e543352dbcrow3_col4\" class=\"data row3 col4\" >0.0282377</td> \n",
       "        <td id=\"T_77fb5130_8575_11ea_88ed_74e543352dbcrow3_col5\" class=\"data row3 col5\" >0.113331</td> \n",
       "        <td id=\"T_77fb5130_8575_11ea_88ed_74e543352dbcrow3_col6\" class=\"data row3 col6\" >-0.109983</td> \n",
       "        <td id=\"T_77fb5130_8575_11ea_88ed_74e543352dbcrow3_col7\" class=\"data row3 col7\" >0.195227</td> \n",
       "        <td id=\"T_77fb5130_8575_11ea_88ed_74e543352dbcrow3_col8\" class=\"data row3 col8\" >0.0386027</td> \n",
       "    </tr>    <tr> \n",
       "        <th id=\"T_77fb5130_8575_11ea_88ed_74e543352dbclevel0_row4\" class=\"row_heading level0 row4\" >instrumentalness</th> \n",
       "        <td id=\"T_77fb5130_8575_11ea_88ed_74e543352dbcrow4_col0\" class=\"data row4 col0\" >-0.275623</td> \n",
       "        <td id=\"T_77fb5130_8575_11ea_88ed_74e543352dbcrow4_col1\" class=\"data row4 col1\" >0.19478</td> \n",
       "        <td id=\"T_77fb5130_8575_11ea_88ed_74e543352dbcrow4_col2\" class=\"data row4 col2\" >-0.255217</td> \n",
       "        <td id=\"T_77fb5130_8575_11ea_88ed_74e543352dbcrow4_col3\" class=\"data row4 col3\" >0.0282377</td> \n",
       "        <td id=\"T_77fb5130_8575_11ea_88ed_74e543352dbcrow4_col4\" class=\"data row4 col4\" >1</td> \n",
       "        <td id=\"T_77fb5130_8575_11ea_88ed_74e543352dbcrow4_col5\" class=\"data row4 col5\" >-0.0910218</td> \n",
       "        <td id=\"T_77fb5130_8575_11ea_88ed_74e543352dbcrow4_col6\" class=\"data row4 col6\" >-0.366762</td> \n",
       "        <td id=\"T_77fb5130_8575_11ea_88ed_74e543352dbcrow4_col7\" class=\"data row4 col7\" >0.022215</td> \n",
       "        <td id=\"T_77fb5130_8575_11ea_88ed_74e543352dbcrow4_col8\" class=\"data row4 col8\" >-0.219967</td> \n",
       "    </tr>    <tr> \n",
       "        <th id=\"T_77fb5130_8575_11ea_88ed_74e543352dbclevel0_row5\" class=\"row_heading level0 row5\" >liveness</th> \n",
       "        <td id=\"T_77fb5130_8575_11ea_88ed_74e543352dbcrow5_col0\" class=\"data row5 col0\" >0.0482307</td> \n",
       "        <td id=\"T_77fb5130_8575_11ea_88ed_74e543352dbcrow5_col1\" class=\"data row5 col1\" >-0.0199914</td> \n",
       "        <td id=\"T_77fb5130_8575_11ea_88ed_74e543352dbcrow5_col2\" class=\"data row5 col2\" >-0.106584</td> \n",
       "        <td id=\"T_77fb5130_8575_11ea_88ed_74e543352dbcrow5_col3\" class=\"data row5 col3\" >0.113331</td> \n",
       "        <td id=\"T_77fb5130_8575_11ea_88ed_74e543352dbcrow5_col4\" class=\"data row5 col4\" >-0.0910218</td> \n",
       "        <td id=\"T_77fb5130_8575_11ea_88ed_74e543352dbcrow5_col5\" class=\"data row5 col5\" >1</td> \n",
       "        <td id=\"T_77fb5130_8575_11ea_88ed_74e543352dbcrow5_col6\" class=\"data row5 col6\" >0.0411725</td> \n",
       "        <td id=\"T_77fb5130_8575_11ea_88ed_74e543352dbcrow5_col7\" class=\"data row5 col7\" >0.00273169</td> \n",
       "        <td id=\"T_77fb5130_8575_11ea_88ed_74e543352dbcrow5_col8\" class=\"data row5 col8\" >-0.0450931</td> \n",
       "    </tr>    <tr> \n",
       "        <th id=\"T_77fb5130_8575_11ea_88ed_74e543352dbclevel0_row6\" class=\"row_heading level0 row6\" >speechiness</th> \n",
       "        <td id=\"T_77fb5130_8575_11ea_88ed_74e543352dbcrow6_col0\" class=\"data row6 col0\" >-0.0269951</td> \n",
       "        <td id=\"T_77fb5130_8575_11ea_88ed_74e543352dbcrow6_col1\" class=\"data row6 col1\" >0.072204</td> \n",
       "        <td id=\"T_77fb5130_8575_11ea_88ed_74e543352dbcrow6_col2\" class=\"data row6 col2\" >0.276206</td> \n",
       "        <td id=\"T_77fb5130_8575_11ea_88ed_74e543352dbcrow6_col3\" class=\"data row6 col3\" >-0.109983</td> \n",
       "        <td id=\"T_77fb5130_8575_11ea_88ed_74e543352dbcrow6_col4\" class=\"data row6 col4\" >-0.366762</td> \n",
       "        <td id=\"T_77fb5130_8575_11ea_88ed_74e543352dbcrow6_col5\" class=\"data row6 col5\" >0.0411725</td> \n",
       "        <td id=\"T_77fb5130_8575_11ea_88ed_74e543352dbcrow6_col6\" class=\"data row6 col6\" >1</td> \n",
       "        <td id=\"T_77fb5130_8575_11ea_88ed_74e543352dbcrow6_col7\" class=\"data row6 col7\" >0.00824055</td> \n",
       "        <td id=\"T_77fb5130_8575_11ea_88ed_74e543352dbcrow6_col8\" class=\"data row6 col8\" >0.149894</td> \n",
       "    </tr>    <tr> \n",
       "        <th id=\"T_77fb5130_8575_11ea_88ed_74e543352dbclevel0_row7\" class=\"row_heading level0 row7\" >tempo</th> \n",
       "        <td id=\"T_77fb5130_8575_11ea_88ed_74e543352dbcrow7_col0\" class=\"data row7 col0\" >-0.0253918</td> \n",
       "        <td id=\"T_77fb5130_8575_11ea_88ed_74e543352dbcrow7_col1\" class=\"data row7 col1\" >-0.0263097</td> \n",
       "        <td id=\"T_77fb5130_8575_11ea_88ed_74e543352dbcrow7_col2\" class=\"data row7 col2\" >-0.242089</td> \n",
       "        <td id=\"T_77fb5130_8575_11ea_88ed_74e543352dbcrow7_col3\" class=\"data row7 col3\" >0.195227</td> \n",
       "        <td id=\"T_77fb5130_8575_11ea_88ed_74e543352dbcrow7_col4\" class=\"data row7 col4\" >0.022215</td> \n",
       "        <td id=\"T_77fb5130_8575_11ea_88ed_74e543352dbcrow7_col5\" class=\"data row7 col5\" >0.00273169</td> \n",
       "        <td id=\"T_77fb5130_8575_11ea_88ed_74e543352dbcrow7_col6\" class=\"data row7 col6\" >0.00824055</td> \n",
       "        <td id=\"T_77fb5130_8575_11ea_88ed_74e543352dbcrow7_col7\" class=\"data row7 col7\" >1</td> \n",
       "        <td id=\"T_77fb5130_8575_11ea_88ed_74e543352dbcrow7_col8\" class=\"data row7 col8\" >0.0522212</td> \n",
       "    </tr>    <tr> \n",
       "        <th id=\"T_77fb5130_8575_11ea_88ed_74e543352dbclevel0_row8\" class=\"row_heading level0 row8\" >valence</th> \n",
       "        <td id=\"T_77fb5130_8575_11ea_88ed_74e543352dbcrow8_col0\" class=\"data row8 col0\" >0.0100698</td> \n",
       "        <td id=\"T_77fb5130_8575_11ea_88ed_74e543352dbcrow8_col1\" class=\"data row8 col1\" >-0.0138406</td> \n",
       "        <td id=\"T_77fb5130_8575_11ea_88ed_74e543352dbcrow8_col2\" class=\"data row8 col2\" >0.473165</td> \n",
       "        <td id=\"T_77fb5130_8575_11ea_88ed_74e543352dbcrow8_col3\" class=\"data row8 col3\" >0.0386027</td> \n",
       "        <td id=\"T_77fb5130_8575_11ea_88ed_74e543352dbcrow8_col4\" class=\"data row8 col4\" >-0.219967</td> \n",
       "        <td id=\"T_77fb5130_8575_11ea_88ed_74e543352dbcrow8_col5\" class=\"data row8 col5\" >-0.0450931</td> \n",
       "        <td id=\"T_77fb5130_8575_11ea_88ed_74e543352dbcrow8_col6\" class=\"data row8 col6\" >0.149894</td> \n",
       "        <td id=\"T_77fb5130_8575_11ea_88ed_74e543352dbcrow8_col7\" class=\"data row8 col7\" >0.0522212</td> \n",
       "        <td id=\"T_77fb5130_8575_11ea_88ed_74e543352dbcrow8_col8\" class=\"data row8 col8\" >1</td> \n",
       "    </tr></tbody> \n",
       "</table> "
      ],
      "text/plain": [
       "<pandas.io.formats.style.Styler at 0x230bcf14860>"
      ]
     },
     "execution_count": 3,
     "metadata": {},
     "output_type": "execute_result"
    }
   ],
   "source": [
    "# Create a correlation matrix\n",
    "corr_metrics = echo_tracks.corr(method='pearson', min_periods=1)\n",
    "corr_metrics.style.background_gradient()"
   ]
  },
  {
   "cell_type": "markdown",
   "metadata": {},
   "source": [
    "#  Normalizing the feature data"
   ]
  },
  {
   "cell_type": "code",
   "execution_count": 4,
   "metadata": {},
   "outputs": [],
   "source": [
    "# Define our features \n",
    "features=echo_tracks.drop(columns=['genre_top','track_id'])\n",
    "\n",
    "# Define our labels\n",
    "labels = echo_tracks.loc[:,'genre_top']\n",
    "\n",
    "\n",
    "\n",
    "# Import the StandardScaler\n",
    "import sklearn.preprocessing as sk\n",
    "\n",
    "# Scale the features and set the values to a new variable\n",
    "scaler = sk.StandardScaler(copy=True,with_mean=True,with_std=True)\n",
    "scaled_train_features = scaler.fit_transform(features)"
   ]
  },
  {
   "cell_type": "markdown",
   "metadata": {},
   "source": [
    "# Principal Component Analysis on our scaled data"
   ]
  },
  {
   "cell_type": "code",
   "execution_count": 5,
   "metadata": {},
   "outputs": [
    {
     "name": "stdout",
     "output_type": "stream",
     "text": [
      "[0.24297674 0.18044316 0.13650309 0.12994089 0.11056248 0.08302245\n",
      " 0.06923783 0.04731336]\n",
      "8\n"
     ]
    },
    {
     "data": {
      "text/plain": [
       "Text(0.5,0,'Principal Component #')"
      ]
     },
     "execution_count": 5,
     "metadata": {},
     "output_type": "execute_result"
    },
    {
     "data": {
      "image/png": "[encoded data removed]",
      "text/plain": [
       "<Figure size 432x288 with 1 Axes>"
      ]
     },
     "metadata": {
      "needs_background": "light"
     },
     "output_type": "display_data"
    }
   ],
   "source": [
    "# This is just to make plots appear in the notebook\n",
    "%matplotlib inline\n",
    "\n",
    "\n",
    "# Import our plotting module, and PCA class\n",
    "\n",
    "import matplotlib.pyplot as plt\n",
    "from sklearn.decomposition import PCA\n",
    "\n",
    "# Get our explained variance ratios from PCA using all features\n",
    "pca=PCA()\n",
    "\n",
    "pca.fit(scaled_train_features)\n",
    "exp_variance=pca.explained_variance_ratio_\n",
    "print(exp_variance)\n",
    "print(pca.n_components_)\n",
    "\n",
    "# plot the explained variance using a barplot\n",
    "fig, ax = plt.subplots()\n",
    "ax.bar(range(8), exp_variance)\n",
    "ax.set_xlabel('Principal Component #')"
   ]
  },
  {
   "cell_type": "code",
   "execution_count": null,
   "metadata": {},
   "outputs": [],
   "source": []
  },
  {
   "cell_type": "markdown",
   "metadata": {},
   "source": [
    "# Further visualization of PCA"
   ]
  },
  {
   "cell_type": "code",
   "execution_count": 6,
   "metadata": {},
   "outputs": [
    {
     "data": {
      "image/png": "[encoded data removed]",
      "text/plain": [
       "<Figure size 432x288 with 1 Axes>"
      ]
     },
     "metadata": {
      "needs_background": "light"
     },
     "output_type": "display_data"
    }
   ],
   "source": [
    "# Import numpy\n",
    "import numpy as np\n",
    "\n",
    "# Calculate the cumulative explained variance\n",
    "cum_exp_variance = np.cumsum(exp_variance)\n",
    "\n",
    "# Plot the cumulative explained variance and draw a dashed line at 0.85.\n",
    "fig, ax = plt.subplots()\n",
    "ax.bar(range(8), cum_exp_variance)\n",
    "ax.axhline(y=0.85, linestyle='--')\n",
    "\n",
    "# choose the n_components where about 85% of our variance can be explained\n",
    "n_components = 6\n",
    "\n",
    "# Perform PCA with the chosen number of components and project data onto components\n",
    "pca = PCA(n_components, random_state=10)\n",
    "pca.fit(scaled_train_features)\n",
    "pca_projection = pca.transform(scaled_train_features)"
   ]
  },
  {
   "cell_type": "markdown",
   "metadata": {},
   "source": [
    "# Train a decision tree to classify genre"
   ]
  },
  {
   "cell_type": "code",
   "execution_count": 7,
   "metadata": {},
   "outputs": [],
   "source": [
    "# Import train_test_split function and Decision tree classifier\n",
    "from sklearn.model_selection import train_test_split\n",
    "from sklearn.tree import DecisionTreeClassifier\n",
    "\n",
    "# Split our data\n",
    "train_features, test_features, train_labels, test_labels = train_test_split(pca_projection,labels,random_state=10)\n",
    "\n",
    "# Train our decision tree\n",
    "tree = DecisionTreeClassifier(random_state=10) \n",
    "tree.fit(train_features,train_labels)\n",
    "\n",
    "# Predict the labels for the test data\n",
    "pred_labels_tree = tree.predict(test_features)"
   ]
  },
  {
   "cell_type": "markdown",
   "metadata": {},
   "source": [
    "# Compare our decision tree to a logistic regression"
   ]
  },
  {
   "cell_type": "code",
   "execution_count": 8,
   "metadata": {},
   "outputs": [
    {
     "name": "stdout",
     "output_type": "stream",
     "text": [
      "Decision Tree: \n",
      "              precision    recall  f1-score   support\n",
      "\n",
      "    Hip-Hop       0.66      0.66      0.66       229\n",
      "       Rock       0.92      0.92      0.92       972\n",
      "\n",
      "avg / total       0.87      0.87      0.87      1201\n",
      "\n",
      "Logistic Regression: \n",
      "              precision    recall  f1-score   support\n",
      "\n",
      "    Hip-Hop       0.75      0.57      0.65       229\n",
      "       Rock       0.90      0.95      0.93       972\n",
      "\n",
      "avg / total       0.87      0.88      0.87      1201\n",
      "\n"
     ]
    }
   ],
   "source": [
    "# Import LogisticRegression\n",
    "from sklearn.linear_model import LogisticRegression\n",
    "\n",
    "# Train our logistic regression and predict labels for the test set\n",
    "logreg = LogisticRegression(random_state=10)\n",
    "logreg.fit(train_features,train_labels)\n",
    "\n",
    "pred_labels_logit = logreg.predict(test_features)\n",
    "\n",
    "# Create the classification report for both models\n",
    "from sklearn.metrics import classification_report\n",
    "class_rep_tree = classification_report(test_labels,pred_labels_tree)\n",
    "class_rep_log = classification_report(test_labels,pred_labels_logit)\n",
    "\n",
    "print(\"Decision Tree: \\n\", class_rep_tree)\n",
    "print(\"Logistic Regression: \\n\", class_rep_log)"
   ]
  },
  {
   "cell_type": "markdown",
   "metadata": {},
   "source": [
    "# Balance our data for greater performance"
   ]
  },
  {
   "cell_type": "code",
   "execution_count": 9,
   "metadata": {},
   "outputs": [],
   "source": [
    "# Subset only the hip-hop tracks, and then only the rock tracks\n",
    "hop_only = echo_tracks.loc[echo_tracks[\"genre_top\"]==\"Hip-Hop\"]\n",
    "\n",
    "\n",
    "# sample the rocks songs to be the same number as there are hip-hop songs\n",
    "rock_only = echo_tracks.loc[echo_tracks[\"genre_top\"] == \"Rock\"].sample(len(hop_only), random_state=10)\n",
    "\n",
    "# concatenate the dataframes rock_only and hop_only\n",
    "rock_hop_bal = pd.concat([rock_only,hop_only])\n",
    "\n",
    "# The features, labels, and pca projection are created for the balanced dataframe\n",
    "features = rock_hop_bal.drop(['genre_top', 'track_id'], axis=1) \n",
    "labels = rock_hop_bal['genre_top']\n",
    "pca_projection = pca.fit_transform(scaler.fit_transform(features))\n",
    "\n",
    "# Redefine the train and test set with the pca_projection from the balanced data\n",
    "train_features, test_features, train_labels, test_labels = train_test_split(pca_projection,labels, random_state=10)"
   ]
  },
  {
   "cell_type": "markdown",
   "metadata": {},
   "source": [
    "# Does balancing our dataset improve model bias?"
   ]
  },
  {
   "cell_type": "code",
   "execution_count": 10,
   "metadata": {},
   "outputs": [
    {
     "name": "stdout",
     "output_type": "stream",
     "text": [
      "Decision Tree: \n",
      "              precision    recall  f1-score   support\n",
      "\n",
      "    Hip-Hop       0.77      0.77      0.77       230\n",
      "       Rock       0.76      0.76      0.76       225\n",
      "\n",
      "avg / total       0.76      0.76      0.76       455\n",
      "\n",
      "Logistic Regression: \n",
      "              precision    recall  f1-score   support\n",
      "\n",
      "    Hip-Hop       0.82      0.83      0.82       230\n",
      "       Rock       0.82      0.81      0.82       225\n",
      "\n",
      "avg / total       0.82      0.82      0.82       455\n",
      "\n"
     ]
    }
   ],
   "source": [
    "# Train our decision tree on the balanced data\n",
    "tree = DecisionTreeClassifier(random_state=10)\n",
    "tree.fit(train_features,train_labels)\n",
    "pred_labels_tree = tree.predict(test_features)\n",
    "\n",
    "# Train our logistic regression on the balanced data\n",
    "logreg = LogisticRegression(random_state=10)\n",
    "logreg.fit(train_features,train_labels)\n",
    "pred_labels_logit = logreg.predict(test_features)\n",
    "\n",
    "# Compare the models\n",
    "print(\"Decision Tree: \\n\", classification_report(test_labels,pred_labels_tree))\n",
    "print(\"Logistic Regression: \\n\", classification_report(test_labels,pred_labels_logit))"
   ]
  },
  {
   "cell_type": "markdown",
   "metadata": {},
   "source": [
    "# Using cross-validation to evaluate our models"
   ]
  },
  {
   "cell_type": "code",
   "execution_count": 11,
   "metadata": {},
   "outputs": [
    {
     "name": "stdout",
     "output_type": "stream",
     "text": [
      "Decision Tree: 0.7241758241758242 Logistic Regression: 0.7752747252747252\n"
     ]
    }
   ],
   "source": [
    "from sklearn.model_selection import KFold, cross_val_score\n",
    "\n",
    "# Set up our K-fold cross-validation\n",
    "kf = KFold(n_splits=10)\n",
    "\n",
    "tree = DecisionTreeClassifier(random_state=10)\n",
    "logreg = LogisticRegression(random_state=10)\n",
    "\n",
    "# Train our models using KFold cv\n",
    "tree_score = cross_val_score(tree,pca_projection,labels,cv=kf)\n",
    "logit_score = cross_val_score(logreg,pca_projection,labels,cv=kf)\n",
    "\n",
    "# Print the mean of each array of scores\n",
    "print(\"Decision Tree:\", np.mean(tree_score),\"Logistic Regression:\", np.mean(logit_score))"
   ]
  }
 ],
 "metadata": {
  "kernelspec": {
   "display_name": "Python 3",
   "language": "python",
   "name": "python3"
  },
  "language_info": {
   "codemirror_mode": {
    "name": "ipython",
    "version": 3
   },
   "file_extension": ".py",
   "mimetype": "text/x-python",
   "name": "python",
   "nbconvert_exporter": "python",
   "pygments_lexer": "ipython3",
   "version": "3.7.0"
  }
 },
 "nbformat": 4,
 "nbformat_minor": 2
}
